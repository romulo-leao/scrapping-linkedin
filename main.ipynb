{
 "cells": [
  {
   "cell_type": "code",
   "execution_count": 31,
   "metadata": {},
   "outputs": [],
   "source": [
    "from selenium import webdriver\n",
    "from getpass import getpass\n",
    "from time import sleep\n",
    "import pandas as pd\n",
    "from bs4 import BeautifulSoup as bs"
   ]
  },
  {
   "cell_type": "code",
   "execution_count": 43,
   "metadata": {},
   "outputs": [],
   "source": [
    "usermail = getpass()"
   ]
  },
  {
   "cell_type": "code",
   "execution_count": 44,
   "metadata": {},
   "outputs": [],
   "source": [
    "senha = getpass()"
   ]
  },
  {
   "cell_type": "code",
   "execution_count": 38,
   "metadata": {},
   "outputs": [
    {
     "name": "stderr",
     "output_type": "stream",
     "text": [
      "C:\\Users\\Romulo\\AppData\\Local\\Temp\\ipykernel_1644\\984406693.py:1: DeprecationWarning: executable_path has been deprecated, please pass in a Service object\n",
      "  driver = webdriver.Chrome(r\"C:\\Users\\Romulo\\Desktop\\chromedriver.exe\")\n"
     ]
    }
   ],
   "source": [
    "driver = webdriver.Chrome(r\"C:\\Users\\Romulo\\Desktop\\chromedriver.exe\")"
   ]
  },
  {
   "cell_type": "code",
   "execution_count": 45,
   "metadata": {},
   "outputs": [],
   "source": [
    "url = 'http://www.linkedin.com'"
   ]
  },
  {
   "cell_type": "code",
   "execution_count": 46,
   "metadata": {},
   "outputs": [],
   "source": [
    "driver.get(url)"
   ]
  },
  {
   "cell_type": "code",
   "execution_count": 47,
   "metadata": {},
   "outputs": [
    {
     "name": "stderr",
     "output_type": "stream",
     "text": [
      "C:\\Users\\Romulo\\AppData\\Local\\Temp\\ipykernel_1644\\4287445180.py:3: DeprecationWarning: find_element_by_xpath is deprecated. Please use find_element(by=By.XPATH, value=xpath) instead\n",
      "  element_login = driver.find_element_by_xpath('//*[@id=\"session_key\"]')\n",
      "C:\\Users\\Romulo\\AppData\\Local\\Temp\\ipykernel_1644\\4287445180.py:9: DeprecationWarning: find_element_by_xpath is deprecated. Please use find_element(by=By.XPATH, value=xpath) instead\n",
      "  element_senha = driver.find_element_by_xpath('//*[@id=\"session_password\"]')\n",
      "C:\\Users\\Romulo\\AppData\\Local\\Temp\\ipykernel_1644\\4287445180.py:16: DeprecationWarning: find_element_by_xpath is deprecated. Please use find_element(by=By.XPATH, value=xpath) instead\n",
      "  driver.find_element_by_xpath('//*[@id=\"main-content\"]/section[1]/div/div/form/button').click()\n"
     ]
    }
   ],
   "source": [
    "# Preenchendo formulário de login\n",
    "\n",
    "element_login = driver.find_element_by_xpath('//*[@id=\"session_key\"]')\n",
    "element_login.clear()\n",
    "element_login.send_keys(usermail)\n",
    "\n",
    "sleep(2)\n",
    "\n",
    "element_senha = driver.find_element_by_xpath('//*[@id=\"session_password\"]')\n",
    "element_senha.clear()\n",
    "element_senha.send_keys(senha)\n",
    "\n",
    "sleep(2)\n",
    "\n",
    "# Clicar para entrar no linkedin\n",
    "driver.find_element_by_xpath('//*[@id=\"main-content\"]/section[1]/div/div/form/button').click()"
   ]
  },
  {
   "cell_type": "code",
   "execution_count": 18,
   "metadata": {},
   "outputs": [
    {
     "name": "stderr",
     "output_type": "stream",
     "text": [
      "C:\\Users\\Romulo\\AppData\\Local\\Temp\\ipykernel_1644\\1731084768.py:1: DeprecationWarning: find_element_by_xpath is deprecated. Please use find_element(by=By.XPATH, value=xpath) instead\n",
      "  driver.find_element_by_xpath('//*[@id=\"main\"]/div/div/div/ul/li[4]/div/div/div[2]/div[1]/div[1]/div/span[1]/span/a/span/span[1]').text\n"
     ]
    },
    {
     "data": {
      "text/plain": [
       "'Jacke Araujo'"
      ]
     },
     "execution_count": 18,
     "metadata": {},
     "output_type": "execute_result"
    }
   ],
   "source": [
    "# nomes = driver.find_element_by_xpath('//*[@id=\"main\"]/div/div/div/ul/li[4]/div/div/div[2]/div[1]/div[1]/div/span[1]/span/a/span/span[1]').text\n",
    "# titulo = driver.find_element_by_xpath('//*[@id=\"main\"]/div/div/div[2]/ul/li[3]/div/div/div[2]/div[1]/div[2]/div/div[1]').text\n",
    "# cidade  = driver.find_element_by_xpath('//*[@id=\"main\"]/div/div/div[2]/ul/li[3]/div/div/div[2]/div[1]/div[2]/div/div[2]').text\n",
    "# urls = driver.find_element_by_xpath('//*[@id=\"main\"]/div/div/div[2]/ul/li[15]/div/div/div[2]/div[1]/div[1]/div/span[1]/span/a').get_attribute('href')"
   ]
  },
  {
   "cell_type": "code",
   "execution_count": 65,
   "metadata": {},
   "outputs": [
    {
     "name": "stderr",
     "output_type": "stream",
     "text": [
      "C:\\Users\\Romulo\\AppData\\Local\\Temp\\ipykernel_1644\\2702434393.py:10: DeprecationWarning: find_element_by_xpath is deprecated. Please use find_element(by=By.XPATH, value=xpath) instead\n",
      "  nomes.append(driver.find_element_by_xpath('//*[@id=\"main\"]/div/div/div/ul/li['+str(j)+']/div/div/div[2]/div[1]/div[1]/div/span[1]/span/a/span/span[1]').text)\n",
      "C:\\Users\\Romulo\\AppData\\Local\\Temp\\ipykernel_1644\\2702434393.py:11: DeprecationWarning: find_element_by_xpath is deprecated. Please use find_element(by=By.XPATH, value=xpath) instead\n",
      "  titulos.append(driver.find_element_by_xpath('//*[@id=\"main\"]/div/div/div/ul/li['+str(j)+']/div/div/div[2]/div[1]/div[2]/div/div[1]').text)\n",
      "C:\\Users\\Romulo\\AppData\\Local\\Temp\\ipykernel_1644\\2702434393.py:12: DeprecationWarning: find_element_by_xpath is deprecated. Please use find_element(by=By.XPATH, value=xpath) instead\n",
      "  cidades.append(driver.find_element_by_xpath('//*[@id=\"main\"]/div/div/div/ul/li['+str(j)+']/div/div/div[2]/div[1]/div[2]/div/div[2]').text)\n",
      "C:\\Users\\Romulo\\AppData\\Local\\Temp\\ipykernel_1644\\2702434393.py:13: DeprecationWarning: find_element_by_xpath is deprecated. Please use find_element(by=By.XPATH, value=xpath) instead\n",
      "  urls.append(driver.find_element_by_xpath('//*[@id=\"main\"]/div/div/div/ul/li['+str(j)+']/div/div/div[2]/div[1]/div[1]/div/span[1]/span/a').get_attribute('href'))\n"
     ]
    }
   ],
   "source": [
    "nomes = []\n",
    "titulos = []\n",
    "cidades = []\n",
    "urls = []\n",
    "\n",
    "for i in range (1,101):\n",
    "    driver.get('https://www.linkedin.com/search/results/people/?currentCompany=%5B\"202691\"%5D&origin=COMPANY_PAGE_CANNED_SEARCH&page='+str(i)+'&sid=38%3A')\n",
    "    for j in range (1,11):\n",
    "        try:\n",
    "            nomes.append(driver.find_element_by_xpath('//*[@id=\"main\"]/div/div/div/ul/li['+str(j)+']/div/div/div[2]/div[1]/div[1]/div/span[1]/span/a/span/span[1]').text)\n",
    "            titulos.append(driver.find_element_by_xpath('//*[@id=\"main\"]/div/div/div/ul/li['+str(j)+']/div/div/div[2]/div[1]/div[2]/div/div[1]').text)\n",
    "            cidades.append(driver.find_element_by_xpath('//*[@id=\"main\"]/div/div/div/ul/li['+str(j)+']/div/div/div[2]/div[1]/div[2]/div/div[2]').text)\n",
    "            urls.append(driver.find_element_by_xpath('//*[@id=\"main\"]/div/div/div/ul/li['+str(j)+']/div/div/div[2]/div[1]/div[1]/div/span[1]/span/a').get_attribute('href'))\n",
    "        except:\n",
    "            nomes.append('N/A')\n",
    "            titulos.append('N/A')\n",
    "            cidades.append('N/A')\n",
    "            urls.append('N/A')\n",
    "\n",
    "    sleep(5)\n",
    "    "
   ]
  },
  {
   "cell_type": "code",
   "execution_count": 66,
   "metadata": {},
   "outputs": [],
   "source": [
    "frame = list(zip(nomes, titulos, cidades, urls))"
   ]
  },
  {
   "cell_type": "code",
   "execution_count": 67,
   "metadata": {},
   "outputs": [],
   "source": [
    "df = pd.DataFrame(frame, columns = ['Nomes', 'Titulos', 'Cidades', 'URLs_Perfil'])"
   ]
  },
  {
   "cell_type": "code",
   "execution_count": 68,
   "metadata": {},
   "outputs": [],
   "source": [
    "df.to_csv('lista-de-perfis.csv', index=False)"
   ]
  },
  {
   "cell_type": "code",
   "execution_count": null,
   "metadata": {},
   "outputs": [],
   "source": []
  }
 ],
 "metadata": {
  "interpreter": {
   "hash": "39388528d72888fbbba03322cc403966acc0238d838510611f612e3de2642a5b"
  },
  "kernelspec": {
   "display_name": "Python 3.9.6 64-bit",
   "language": "python",
   "name": "python3"
  },
  "language_info": {
   "codemirror_mode": {
    "name": "ipython",
    "version": 3
   },
   "file_extension": ".py",
   "mimetype": "text/x-python",
   "name": "python",
   "nbconvert_exporter": "python",
   "pygments_lexer": "ipython3",
   "version": "3.9.6"
  },
  "orig_nbformat": 4
 },
 "nbformat": 4,
 "nbformat_minor": 2
}
